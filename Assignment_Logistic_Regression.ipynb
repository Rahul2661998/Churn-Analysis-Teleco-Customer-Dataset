{
  "nbformat": 4,
  "nbformat_minor": 0,
  "metadata": {
    "kernelspec": {
      "display_name": "Python 3",
      "language": "python",
      "name": "python3"
    },
    "language_info": {
      "codemirror_mode": {
        "name": "ipython",
        "version": 3
      },
      "file_extension": ".py",
      "mimetype": "text/x-python",
      "name": "python",
      "nbconvert_exporter": "python",
      "pygments_lexer": "ipython3",
      "version": "3.7.1"
    },
    "colab": {
      "provenance": [],
      "collapsed_sections": [],
      "include_colab_link": true
    }
  },
  "cells": [
    {
      "cell_type": "markdown",
      "metadata": {
        "id": "view-in-github",
        "colab_type": "text"
      },
      "source": [
        "<a href=\"https://colab.research.google.com/github/Rahul2661998/Churn-Analysis-Teleco-Customer-Dataset/blob/main/Assignment_Logistic_Regression.ipynb\" target=\"_parent\"><img src=\"https://colab.research.google.com/assets/colab-badge.svg\" alt=\"Open In Colab\"/></a>"
      ]
    },
    {
      "cell_type": "markdown",
      "metadata": {
        "id": "PYsTFWXYjCxF"
      },
      "source": [
        "# <u><b> Objective </b></u>\n",
        "## <b>To predict the whether a customer will churn or not, based on the variables available in the Telco customer churn data. </b>\n",
        "\n",
        "\n",
        "### Logistic regression does not make many of the key assumptions of linear regression and general linear models that are based on ordinary least squares algorithms – particularly regarding linearity, normality, homoscedasticity, and measurement level.\n",
        "\n",
        "### First, logistic regression does not require a linear relationship between the dependent and independent variables.  Second, the error terms (residuals) do not need to be normally distributed.  Third, homoscedasticity is not required.  Finally, the dependent variable in logistic regression is not measured on an interval or ratio scale.\n",
        "\n",
        "### However, some other assumptions still apply.\n",
        "\n",
        "### First, binary logistic regression requires the dependent variable to be binary and ordinal logistic regression requires the dependent variable to be ordinal.\n",
        "\n",
        "### Second, logistic regression requires the observations to be independent of each other.  In other words, the observations should not come from repeated measurements or matched data.\n",
        "\n",
        "### Third, logistic regression requires there to be little or no multicollinearity among the independent variables.  This means that the independent variables should not be too highly correlated with each other.\n",
        "\n",
        "### Fourth, logistic regression assumes linearity of independent variables and log odds.  although this analysis does not require the dependent and independent variables to be related linearly, it requires that the independent variables are linearly related to the log odds.\n",
        "\n",
        "\n",
        "### <b> In this assignment, you need to do the following : </b>\n",
        "\n",
        "* ### Remove correlated variables and run Logistic Regression\n",
        "* ### Also implement regularized logistic regression using the hyperparameter C in the sklearn implementation. Add details about how this hyperparameter affects the learning and performance of the model.\n",
        "* ### Evaluate your logistic regression models using metrics such as roc_auc, log_loss, precision, recall, accuracy and f-score. You already know these metrics from your assignments in Module 1. Explain your observations about these metrics results."
      ]
    },
    {
      "cell_type": "code",
      "metadata": {
        "id": "Ah_20SDKV7Ao"
      },
      "source": [
        "import numpy as np\n",
        "import pandas as pd\n",
        "import matplotlib.pyplot as plt\n",
        "import seaborn as sns\n",
        "from sklearn.linear_model import LogisticRegression\n",
        "from sklearn.model_selection import train_test_split\n",
        "from sklearn.model_selection import GridSearchCV\n",
        "from statsmodels.stats.outliers_influence import variance_inflation_factor\n",
        "from sklearn.preprocessing import MinMaxScaler\n",
        "from sklearn.metrics import accuracy_score\n",
        "from sklearn.metrics import confusion_matrix\n",
        "from sklearn.metrics import f1_score\n",
        "from sklearn.metrics import log_loss\n",
        "from sklearn.metrics import roc_auc_score\n",
        "from sklearn.linear_model import LogisticRegressionCV\n",
        "from sklearn.model_selection import cross_validate"
      ],
      "execution_count": 46,
      "outputs": []
    },
    {
      "cell_type": "code",
      "source": [
        "from google.colab import drive\n",
        "drive.mount('/content/drive')"
      ],
      "metadata": {
        "colab": {
          "base_uri": "https://localhost:8080/"
        },
        "id": "n35XDsC_iWQs",
        "outputId": "890a63fd-2676-4a6a-b6b4-d4fb61bd07b5"
      },
      "execution_count": 3,
      "outputs": [
        {
          "output_type": "stream",
          "name": "stdout",
          "text": [
            "Drive already mounted at /content/drive; to attempt to forcibly remount, call drive.mount(\"/content/drive\", force_remount=True).\n"
          ]
        }
      ]
    },
    {
      "cell_type": "code",
      "source": [
        "data=pd.read_csv(\"/content/drive/MyDrive/Classification models/Copy of WA_Fn-UseC_-Telco-Customer-Churn.csv\")"
      ],
      "metadata": {
        "id": "1vH94wgQiIvY"
      },
      "execution_count": 4,
      "outputs": []
    },
    {
      "cell_type": "code",
      "source": [
        "data.head()"
      ],
      "metadata": {
        "colab": {
          "base_uri": "https://localhost:8080/",
          "height": 386
        },
        "id": "QU1p3hnuio1A",
        "outputId": "123cb61b-3883-4832-b9b2-a51815e5176d"
      },
      "execution_count": 5,
      "outputs": [
        {
          "output_type": "execute_result",
          "data": {
            "text/plain": [
              "   customerID  gender  SeniorCitizen Partner Dependents  tenure PhoneService  \\\n",
              "0  7590-VHVEG  Female              0     Yes         No       1           No   \n",
              "1  5575-GNVDE    Male              0      No         No      34          Yes   \n",
              "2  3668-QPYBK    Male              0      No         No       2          Yes   \n",
              "3  7795-CFOCW    Male              0      No         No      45           No   \n",
              "4  9237-HQITU  Female              0      No         No       2          Yes   \n",
              "\n",
              "      MultipleLines InternetService OnlineSecurity  ... DeviceProtection  \\\n",
              "0  No phone service             DSL             No  ...               No   \n",
              "1                No             DSL            Yes  ...              Yes   \n",
              "2                No             DSL            Yes  ...               No   \n",
              "3  No phone service             DSL            Yes  ...              Yes   \n",
              "4                No     Fiber optic             No  ...               No   \n",
              "\n",
              "  TechSupport StreamingTV StreamingMovies        Contract PaperlessBilling  \\\n",
              "0          No          No              No  Month-to-month              Yes   \n",
              "1          No          No              No        One year               No   \n",
              "2          No          No              No  Month-to-month              Yes   \n",
              "3         Yes          No              No        One year               No   \n",
              "4          No          No              No  Month-to-month              Yes   \n",
              "\n",
              "               PaymentMethod MonthlyCharges  TotalCharges Churn  \n",
              "0           Electronic check          29.85         29.85    No  \n",
              "1               Mailed check          56.95        1889.5    No  \n",
              "2               Mailed check          53.85        108.15   Yes  \n",
              "3  Bank transfer (automatic)          42.30       1840.75    No  \n",
              "4           Electronic check          70.70        151.65   Yes  \n",
              "\n",
              "[5 rows x 21 columns]"
            ],
            "text/html": [
              "\n",
              "  <div id=\"df-d1ad81fb-358c-4825-aee9-18e926fcb5be\">\n",
              "    <div class=\"colab-df-container\">\n",
              "      <div>\n",
              "<style scoped>\n",
              "    .dataframe tbody tr th:only-of-type {\n",
              "        vertical-align: middle;\n",
              "    }\n",
              "\n",
              "    .dataframe tbody tr th {\n",
              "        vertical-align: top;\n",
              "    }\n",
              "\n",
              "    .dataframe thead th {\n",
              "        text-align: right;\n",
              "    }\n",
              "</style>\n",
              "<table border=\"1\" class=\"dataframe\">\n",
              "  <thead>\n",
              "    <tr style=\"text-align: right;\">\n",
              "      <th></th>\n",
              "      <th>customerID</th>\n",
              "      <th>gender</th>\n",
              "      <th>SeniorCitizen</th>\n",
              "      <th>Partner</th>\n",
              "      <th>Dependents</th>\n",
              "      <th>tenure</th>\n",
              "      <th>PhoneService</th>\n",
              "      <th>MultipleLines</th>\n",
              "      <th>InternetService</th>\n",
              "      <th>OnlineSecurity</th>\n",
              "      <th>...</th>\n",
              "      <th>DeviceProtection</th>\n",
              "      <th>TechSupport</th>\n",
              "      <th>StreamingTV</th>\n",
              "      <th>StreamingMovies</th>\n",
              "      <th>Contract</th>\n",
              "      <th>PaperlessBilling</th>\n",
              "      <th>PaymentMethod</th>\n",
              "      <th>MonthlyCharges</th>\n",
              "      <th>TotalCharges</th>\n",
              "      <th>Churn</th>\n",
              "    </tr>\n",
              "  </thead>\n",
              "  <tbody>\n",
              "    <tr>\n",
              "      <th>0</th>\n",
              "      <td>7590-VHVEG</td>\n",
              "      <td>Female</td>\n",
              "      <td>0</td>\n",
              "      <td>Yes</td>\n",
              "      <td>No</td>\n",
              "      <td>1</td>\n",
              "      <td>No</td>\n",
              "      <td>No phone service</td>\n",
              "      <td>DSL</td>\n",
              "      <td>No</td>\n",
              "      <td>...</td>\n",
              "      <td>No</td>\n",
              "      <td>No</td>\n",
              "      <td>No</td>\n",
              "      <td>No</td>\n",
              "      <td>Month-to-month</td>\n",
              "      <td>Yes</td>\n",
              "      <td>Electronic check</td>\n",
              "      <td>29.85</td>\n",
              "      <td>29.85</td>\n",
              "      <td>No</td>\n",
              "    </tr>\n",
              "    <tr>\n",
              "      <th>1</th>\n",
              "      <td>5575-GNVDE</td>\n",
              "      <td>Male</td>\n",
              "      <td>0</td>\n",
              "      <td>No</td>\n",
              "      <td>No</td>\n",
              "      <td>34</td>\n",
              "      <td>Yes</td>\n",
              "      <td>No</td>\n",
              "      <td>DSL</td>\n",
              "      <td>Yes</td>\n",
              "      <td>...</td>\n",
              "      <td>Yes</td>\n",
              "      <td>No</td>\n",
              "      <td>No</td>\n",
              "      <td>No</td>\n",
              "      <td>One year</td>\n",
              "      <td>No</td>\n",
              "      <td>Mailed check</td>\n",
              "      <td>56.95</td>\n",
              "      <td>1889.5</td>\n",
              "      <td>No</td>\n",
              "    </tr>\n",
              "    <tr>\n",
              "      <th>2</th>\n",
              "      <td>3668-QPYBK</td>\n",
              "      <td>Male</td>\n",
              "      <td>0</td>\n",
              "      <td>No</td>\n",
              "      <td>No</td>\n",
              "      <td>2</td>\n",
              "      <td>Yes</td>\n",
              "      <td>No</td>\n",
              "      <td>DSL</td>\n",
              "      <td>Yes</td>\n",
              "      <td>...</td>\n",
              "      <td>No</td>\n",
              "      <td>No</td>\n",
              "      <td>No</td>\n",
              "      <td>No</td>\n",
              "      <td>Month-to-month</td>\n",
              "      <td>Yes</td>\n",
              "      <td>Mailed check</td>\n",
              "      <td>53.85</td>\n",
              "      <td>108.15</td>\n",
              "      <td>Yes</td>\n",
              "    </tr>\n",
              "    <tr>\n",
              "      <th>3</th>\n",
              "      <td>7795-CFOCW</td>\n",
              "      <td>Male</td>\n",
              "      <td>0</td>\n",
              "      <td>No</td>\n",
              "      <td>No</td>\n",
              "      <td>45</td>\n",
              "      <td>No</td>\n",
              "      <td>No phone service</td>\n",
              "      <td>DSL</td>\n",
              "      <td>Yes</td>\n",
              "      <td>...</td>\n",
              "      <td>Yes</td>\n",
              "      <td>Yes</td>\n",
              "      <td>No</td>\n",
              "      <td>No</td>\n",
              "      <td>One year</td>\n",
              "      <td>No</td>\n",
              "      <td>Bank transfer (automatic)</td>\n",
              "      <td>42.30</td>\n",
              "      <td>1840.75</td>\n",
              "      <td>No</td>\n",
              "    </tr>\n",
              "    <tr>\n",
              "      <th>4</th>\n",
              "      <td>9237-HQITU</td>\n",
              "      <td>Female</td>\n",
              "      <td>0</td>\n",
              "      <td>No</td>\n",
              "      <td>No</td>\n",
              "      <td>2</td>\n",
              "      <td>Yes</td>\n",
              "      <td>No</td>\n",
              "      <td>Fiber optic</td>\n",
              "      <td>No</td>\n",
              "      <td>...</td>\n",
              "      <td>No</td>\n",
              "      <td>No</td>\n",
              "      <td>No</td>\n",
              "      <td>No</td>\n",
              "      <td>Month-to-month</td>\n",
              "      <td>Yes</td>\n",
              "      <td>Electronic check</td>\n",
              "      <td>70.70</td>\n",
              "      <td>151.65</td>\n",
              "      <td>Yes</td>\n",
              "    </tr>\n",
              "  </tbody>\n",
              "</table>\n",
              "<p>5 rows × 21 columns</p>\n",
              "</div>\n",
              "      <button class=\"colab-df-convert\" onclick=\"convertToInteractive('df-d1ad81fb-358c-4825-aee9-18e926fcb5be')\"\n",
              "              title=\"Convert this dataframe to an interactive table.\"\n",
              "              style=\"display:none;\">\n",
              "        \n",
              "  <svg xmlns=\"http://www.w3.org/2000/svg\" height=\"24px\"viewBox=\"0 0 24 24\"\n",
              "       width=\"24px\">\n",
              "    <path d=\"M0 0h24v24H0V0z\" fill=\"none\"/>\n",
              "    <path d=\"M18.56 5.44l.94 2.06.94-2.06 2.06-.94-2.06-.94-.94-2.06-.94 2.06-2.06.94zm-11 1L8.5 8.5l.94-2.06 2.06-.94-2.06-.94L8.5 2.5l-.94 2.06-2.06.94zm10 10l.94 2.06.94-2.06 2.06-.94-2.06-.94-.94-2.06-.94 2.06-2.06.94z\"/><path d=\"M17.41 7.96l-1.37-1.37c-.4-.4-.92-.59-1.43-.59-.52 0-1.04.2-1.43.59L10.3 9.45l-7.72 7.72c-.78.78-.78 2.05 0 2.83L4 21.41c.39.39.9.59 1.41.59.51 0 1.02-.2 1.41-.59l7.78-7.78 2.81-2.81c.8-.78.8-2.07 0-2.86zM5.41 20L4 18.59l7.72-7.72 1.47 1.35L5.41 20z\"/>\n",
              "  </svg>\n",
              "      </button>\n",
              "      \n",
              "  <style>\n",
              "    .colab-df-container {\n",
              "      display:flex;\n",
              "      flex-wrap:wrap;\n",
              "      gap: 12px;\n",
              "    }\n",
              "\n",
              "    .colab-df-convert {\n",
              "      background-color: #E8F0FE;\n",
              "      border: none;\n",
              "      border-radius: 50%;\n",
              "      cursor: pointer;\n",
              "      display: none;\n",
              "      fill: #1967D2;\n",
              "      height: 32px;\n",
              "      padding: 0 0 0 0;\n",
              "      width: 32px;\n",
              "    }\n",
              "\n",
              "    .colab-df-convert:hover {\n",
              "      background-color: #E2EBFA;\n",
              "      box-shadow: 0px 1px 2px rgba(60, 64, 67, 0.3), 0px 1px 3px 1px rgba(60, 64, 67, 0.15);\n",
              "      fill: #174EA6;\n",
              "    }\n",
              "\n",
              "    [theme=dark] .colab-df-convert {\n",
              "      background-color: #3B4455;\n",
              "      fill: #D2E3FC;\n",
              "    }\n",
              "\n",
              "    [theme=dark] .colab-df-convert:hover {\n",
              "      background-color: #434B5C;\n",
              "      box-shadow: 0px 1px 3px 1px rgba(0, 0, 0, 0.15);\n",
              "      filter: drop-shadow(0px 1px 2px rgba(0, 0, 0, 0.3));\n",
              "      fill: #FFFFFF;\n",
              "    }\n",
              "  </style>\n",
              "\n",
              "      <script>\n",
              "        const buttonEl =\n",
              "          document.querySelector('#df-d1ad81fb-358c-4825-aee9-18e926fcb5be button.colab-df-convert');\n",
              "        buttonEl.style.display =\n",
              "          google.colab.kernel.accessAllowed ? 'block' : 'none';\n",
              "\n",
              "        async function convertToInteractive(key) {\n",
              "          const element = document.querySelector('#df-d1ad81fb-358c-4825-aee9-18e926fcb5be');\n",
              "          const dataTable =\n",
              "            await google.colab.kernel.invokeFunction('convertToInteractive',\n",
              "                                                     [key], {});\n",
              "          if (!dataTable) return;\n",
              "\n",
              "          const docLinkHtml = 'Like what you see? Visit the ' +\n",
              "            '<a target=\"_blank\" href=https://colab.research.google.com/notebooks/data_table.ipynb>data table notebook</a>'\n",
              "            + ' to learn more about interactive tables.';\n",
              "          element.innerHTML = '';\n",
              "          dataTable['output_type'] = 'display_data';\n",
              "          await google.colab.output.renderOutput(dataTable, element);\n",
              "          const docLink = document.createElement('div');\n",
              "          docLink.innerHTML = docLinkHtml;\n",
              "          element.appendChild(docLink);\n",
              "        }\n",
              "      </script>\n",
              "    </div>\n",
              "  </div>\n",
              "  "
            ]
          },
          "metadata": {},
          "execution_count": 5
        }
      ]
    },
    {
      "cell_type": "code",
      "source": [
        "data.info()"
      ],
      "metadata": {
        "colab": {
          "base_uri": "https://localhost:8080/"
        },
        "id": "O93ng0v8io4l",
        "outputId": "bef47eae-f7b2-4895-a613-16f4359bb6cc"
      },
      "execution_count": 6,
      "outputs": [
        {
          "output_type": "stream",
          "name": "stdout",
          "text": [
            "<class 'pandas.core.frame.DataFrame'>\n",
            "RangeIndex: 7043 entries, 0 to 7042\n",
            "Data columns (total 21 columns):\n",
            " #   Column            Non-Null Count  Dtype  \n",
            "---  ------            --------------  -----  \n",
            " 0   customerID        7043 non-null   object \n",
            " 1   gender            7043 non-null   object \n",
            " 2   SeniorCitizen     7043 non-null   int64  \n",
            " 3   Partner           7043 non-null   object \n",
            " 4   Dependents        7043 non-null   object \n",
            " 5   tenure            7043 non-null   int64  \n",
            " 6   PhoneService      7043 non-null   object \n",
            " 7   MultipleLines     7043 non-null   object \n",
            " 8   InternetService   7043 non-null   object \n",
            " 9   OnlineSecurity    7043 non-null   object \n",
            " 10  OnlineBackup      7043 non-null   object \n",
            " 11  DeviceProtection  7043 non-null   object \n",
            " 12  TechSupport       7043 non-null   object \n",
            " 13  StreamingTV       7043 non-null   object \n",
            " 14  StreamingMovies   7043 non-null   object \n",
            " 15  Contract          7043 non-null   object \n",
            " 16  PaperlessBilling  7043 non-null   object \n",
            " 17  PaymentMethod     7043 non-null   object \n",
            " 18  MonthlyCharges    7043 non-null   float64\n",
            " 19  TotalCharges      7043 non-null   object \n",
            " 20  Churn             7043 non-null   object \n",
            "dtypes: float64(1), int64(2), object(18)\n",
            "memory usage: 1.1+ MB\n"
          ]
        }
      ]
    },
    {
      "cell_type": "code",
      "source": [
        "data.describe(include=\"all\")"
      ],
      "metadata": {
        "colab": {
          "base_uri": "https://localhost:8080/",
          "height": 505
        },
        "id": "ImBMubV9io8D",
        "outputId": "3faf1297-4a8b-489a-feda-e9c55c5b6d44"
      },
      "execution_count": 7,
      "outputs": [
        {
          "output_type": "execute_result",
          "data": {
            "text/plain": [
              "        customerID gender  SeniorCitizen Partner Dependents       tenure  \\\n",
              "count         7043   7043    7043.000000    7043       7043  7043.000000   \n",
              "unique        7043      2            NaN       2          2          NaN   \n",
              "top     7590-VHVEG   Male            NaN      No         No          NaN   \n",
              "freq             1   3555            NaN    3641       4933          NaN   \n",
              "mean           NaN    NaN       0.162147     NaN        NaN    32.371149   \n",
              "std            NaN    NaN       0.368612     NaN        NaN    24.559481   \n",
              "min            NaN    NaN       0.000000     NaN        NaN     0.000000   \n",
              "25%            NaN    NaN       0.000000     NaN        NaN     9.000000   \n",
              "50%            NaN    NaN       0.000000     NaN        NaN    29.000000   \n",
              "75%            NaN    NaN       0.000000     NaN        NaN    55.000000   \n",
              "max            NaN    NaN       1.000000     NaN        NaN    72.000000   \n",
              "\n",
              "       PhoneService MultipleLines InternetService OnlineSecurity  ...  \\\n",
              "count          7043          7043            7043           7043  ...   \n",
              "unique            2             3               3              3  ...   \n",
              "top             Yes            No     Fiber optic             No  ...   \n",
              "freq           6361          3390            3096           3498  ...   \n",
              "mean            NaN           NaN             NaN            NaN  ...   \n",
              "std             NaN           NaN             NaN            NaN  ...   \n",
              "min             NaN           NaN             NaN            NaN  ...   \n",
              "25%             NaN           NaN             NaN            NaN  ...   \n",
              "50%             NaN           NaN             NaN            NaN  ...   \n",
              "75%             NaN           NaN             NaN            NaN  ...   \n",
              "max             NaN           NaN             NaN            NaN  ...   \n",
              "\n",
              "       DeviceProtection TechSupport StreamingTV StreamingMovies  \\\n",
              "count              7043        7043        7043            7043   \n",
              "unique                3           3           3               3   \n",
              "top                  No          No          No              No   \n",
              "freq               3095        3473        2810            2785   \n",
              "mean                NaN         NaN         NaN             NaN   \n",
              "std                 NaN         NaN         NaN             NaN   \n",
              "min                 NaN         NaN         NaN             NaN   \n",
              "25%                 NaN         NaN         NaN             NaN   \n",
              "50%                 NaN         NaN         NaN             NaN   \n",
              "75%                 NaN         NaN         NaN             NaN   \n",
              "max                 NaN         NaN         NaN             NaN   \n",
              "\n",
              "              Contract PaperlessBilling     PaymentMethod MonthlyCharges  \\\n",
              "count             7043             7043              7043    7043.000000   \n",
              "unique               3                2                 4            NaN   \n",
              "top     Month-to-month              Yes  Electronic check            NaN   \n",
              "freq              3875             4171              2365            NaN   \n",
              "mean               NaN              NaN               NaN      64.761692   \n",
              "std                NaN              NaN               NaN      30.090047   \n",
              "min                NaN              NaN               NaN      18.250000   \n",
              "25%                NaN              NaN               NaN      35.500000   \n",
              "50%                NaN              NaN               NaN      70.350000   \n",
              "75%                NaN              NaN               NaN      89.850000   \n",
              "max                NaN              NaN               NaN     118.750000   \n",
              "\n",
              "        TotalCharges Churn  \n",
              "count           7043  7043  \n",
              "unique          6531     2  \n",
              "top                     No  \n",
              "freq              11  5174  \n",
              "mean             NaN   NaN  \n",
              "std              NaN   NaN  \n",
              "min              NaN   NaN  \n",
              "25%              NaN   NaN  \n",
              "50%              NaN   NaN  \n",
              "75%              NaN   NaN  \n",
              "max              NaN   NaN  \n",
              "\n",
              "[11 rows x 21 columns]"
            ],
            "text/html": [
              "\n",
              "  <div id=\"df-c2300086-23b9-4338-b8df-46e70cc61841\">\n",
              "    <div class=\"colab-df-container\">\n",
              "      <div>\n",
              "<style scoped>\n",
              "    .dataframe tbody tr th:only-of-type {\n",
              "        vertical-align: middle;\n",
              "    }\n",
              "\n",
              "    .dataframe tbody tr th {\n",
              "        vertical-align: top;\n",
              "    }\n",
              "\n",
              "    .dataframe thead th {\n",
              "        text-align: right;\n",
              "    }\n",
              "</style>\n",
              "<table border=\"1\" class=\"dataframe\">\n",
              "  <thead>\n",
              "    <tr style=\"text-align: right;\">\n",
              "      <th></th>\n",
              "      <th>customerID</th>\n",
              "      <th>gender</th>\n",
              "      <th>SeniorCitizen</th>\n",
              "      <th>Partner</th>\n",
              "      <th>Dependents</th>\n",
              "      <th>tenure</th>\n",
              "      <th>PhoneService</th>\n",
              "      <th>MultipleLines</th>\n",
              "      <th>InternetService</th>\n",
              "      <th>OnlineSecurity</th>\n",
              "      <th>...</th>\n",
              "      <th>DeviceProtection</th>\n",
              "      <th>TechSupport</th>\n",
              "      <th>StreamingTV</th>\n",
              "      <th>StreamingMovies</th>\n",
              "      <th>Contract</th>\n",
              "      <th>PaperlessBilling</th>\n",
              "      <th>PaymentMethod</th>\n",
              "      <th>MonthlyCharges</th>\n",
              "      <th>TotalCharges</th>\n",
              "      <th>Churn</th>\n",
              "    </tr>\n",
              "  </thead>\n",
              "  <tbody>\n",
              "    <tr>\n",
              "      <th>count</th>\n",
              "      <td>7043</td>\n",
              "      <td>7043</td>\n",
              "      <td>7043.000000</td>\n",
              "      <td>7043</td>\n",
              "      <td>7043</td>\n",
              "      <td>7043.000000</td>\n",
              "      <td>7043</td>\n",
              "      <td>7043</td>\n",
              "      <td>7043</td>\n",
              "      <td>7043</td>\n",
              "      <td>...</td>\n",
              "      <td>7043</td>\n",
              "      <td>7043</td>\n",
              "      <td>7043</td>\n",
              "      <td>7043</td>\n",
              "      <td>7043</td>\n",
              "      <td>7043</td>\n",
              "      <td>7043</td>\n",
              "      <td>7043.000000</td>\n",
              "      <td>7043</td>\n",
              "      <td>7043</td>\n",
              "    </tr>\n",
              "    <tr>\n",
              "      <th>unique</th>\n",
              "      <td>7043</td>\n",
              "      <td>2</td>\n",
              "      <td>NaN</td>\n",
              "      <td>2</td>\n",
              "      <td>2</td>\n",
              "      <td>NaN</td>\n",
              "      <td>2</td>\n",
              "      <td>3</td>\n",
              "      <td>3</td>\n",
              "      <td>3</td>\n",
              "      <td>...</td>\n",
              "      <td>3</td>\n",
              "      <td>3</td>\n",
              "      <td>3</td>\n",
              "      <td>3</td>\n",
              "      <td>3</td>\n",
              "      <td>2</td>\n",
              "      <td>4</td>\n",
              "      <td>NaN</td>\n",
              "      <td>6531</td>\n",
              "      <td>2</td>\n",
              "    </tr>\n",
              "    <tr>\n",
              "      <th>top</th>\n",
              "      <td>7590-VHVEG</td>\n",
              "      <td>Male</td>\n",
              "      <td>NaN</td>\n",
              "      <td>No</td>\n",
              "      <td>No</td>\n",
              "      <td>NaN</td>\n",
              "      <td>Yes</td>\n",
              "      <td>No</td>\n",
              "      <td>Fiber optic</td>\n",
              "      <td>No</td>\n",
              "      <td>...</td>\n",
              "      <td>No</td>\n",
              "      <td>No</td>\n",
              "      <td>No</td>\n",
              "      <td>No</td>\n",
              "      <td>Month-to-month</td>\n",
              "      <td>Yes</td>\n",
              "      <td>Electronic check</td>\n",
              "      <td>NaN</td>\n",
              "      <td></td>\n",
              "      <td>No</td>\n",
              "    </tr>\n",
              "    <tr>\n",
              "      <th>freq</th>\n",
              "      <td>1</td>\n",
              "      <td>3555</td>\n",
              "      <td>NaN</td>\n",
              "      <td>3641</td>\n",
              "      <td>4933</td>\n",
              "      <td>NaN</td>\n",
              "      <td>6361</td>\n",
              "      <td>3390</td>\n",
              "      <td>3096</td>\n",
              "      <td>3498</td>\n",
              "      <td>...</td>\n",
              "      <td>3095</td>\n",
              "      <td>3473</td>\n",
              "      <td>2810</td>\n",
              "      <td>2785</td>\n",
              "      <td>3875</td>\n",
              "      <td>4171</td>\n",
              "      <td>2365</td>\n",
              "      <td>NaN</td>\n",
              "      <td>11</td>\n",
              "      <td>5174</td>\n",
              "    </tr>\n",
              "    <tr>\n",
              "      <th>mean</th>\n",
              "      <td>NaN</td>\n",
              "      <td>NaN</td>\n",
              "      <td>0.162147</td>\n",
              "      <td>NaN</td>\n",
              "      <td>NaN</td>\n",
              "      <td>32.371149</td>\n",
              "      <td>NaN</td>\n",
              "      <td>NaN</td>\n",
              "      <td>NaN</td>\n",
              "      <td>NaN</td>\n",
              "      <td>...</td>\n",
              "      <td>NaN</td>\n",
              "      <td>NaN</td>\n",
              "      <td>NaN</td>\n",
              "      <td>NaN</td>\n",
              "      <td>NaN</td>\n",
              "      <td>NaN</td>\n",
              "      <td>NaN</td>\n",
              "      <td>64.761692</td>\n",
              "      <td>NaN</td>\n",
              "      <td>NaN</td>\n",
              "    </tr>\n",
              "    <tr>\n",
              "      <th>std</th>\n",
              "      <td>NaN</td>\n",
              "      <td>NaN</td>\n",
              "      <td>0.368612</td>\n",
              "      <td>NaN</td>\n",
              "      <td>NaN</td>\n",
              "      <td>24.559481</td>\n",
              "      <td>NaN</td>\n",
              "      <td>NaN</td>\n",
              "      <td>NaN</td>\n",
              "      <td>NaN</td>\n",
              "      <td>...</td>\n",
              "      <td>NaN</td>\n",
              "      <td>NaN</td>\n",
              "      <td>NaN</td>\n",
              "      <td>NaN</td>\n",
              "      <td>NaN</td>\n",
              "      <td>NaN</td>\n",
              "      <td>NaN</td>\n",
              "      <td>30.090047</td>\n",
              "      <td>NaN</td>\n",
              "      <td>NaN</td>\n",
              "    </tr>\n",
              "    <tr>\n",
              "      <th>min</th>\n",
              "      <td>NaN</td>\n",
              "      <td>NaN</td>\n",
              "      <td>0.000000</td>\n",
              "      <td>NaN</td>\n",
              "      <td>NaN</td>\n",
              "      <td>0.000000</td>\n",
              "      <td>NaN</td>\n",
              "      <td>NaN</td>\n",
              "      <td>NaN</td>\n",
              "      <td>NaN</td>\n",
              "      <td>...</td>\n",
              "      <td>NaN</td>\n",
              "      <td>NaN</td>\n",
              "      <td>NaN</td>\n",
              "      <td>NaN</td>\n",
              "      <td>NaN</td>\n",
              "      <td>NaN</td>\n",
              "      <td>NaN</td>\n",
              "      <td>18.250000</td>\n",
              "      <td>NaN</td>\n",
              "      <td>NaN</td>\n",
              "    </tr>\n",
              "    <tr>\n",
              "      <th>25%</th>\n",
              "      <td>NaN</td>\n",
              "      <td>NaN</td>\n",
              "      <td>0.000000</td>\n",
              "      <td>NaN</td>\n",
              "      <td>NaN</td>\n",
              "      <td>9.000000</td>\n",
              "      <td>NaN</td>\n",
              "      <td>NaN</td>\n",
              "      <td>NaN</td>\n",
              "      <td>NaN</td>\n",
              "      <td>...</td>\n",
              "      <td>NaN</td>\n",
              "      <td>NaN</td>\n",
              "      <td>NaN</td>\n",
              "      <td>NaN</td>\n",
              "      <td>NaN</td>\n",
              "      <td>NaN</td>\n",
              "      <td>NaN</td>\n",
              "      <td>35.500000</td>\n",
              "      <td>NaN</td>\n",
              "      <td>NaN</td>\n",
              "    </tr>\n",
              "    <tr>\n",
              "      <th>50%</th>\n",
              "      <td>NaN</td>\n",
              "      <td>NaN</td>\n",
              "      <td>0.000000</td>\n",
              "      <td>NaN</td>\n",
              "      <td>NaN</td>\n",
              "      <td>29.000000</td>\n",
              "      <td>NaN</td>\n",
              "      <td>NaN</td>\n",
              "      <td>NaN</td>\n",
              "      <td>NaN</td>\n",
              "      <td>...</td>\n",
              "      <td>NaN</td>\n",
              "      <td>NaN</td>\n",
              "      <td>NaN</td>\n",
              "      <td>NaN</td>\n",
              "      <td>NaN</td>\n",
              "      <td>NaN</td>\n",
              "      <td>NaN</td>\n",
              "      <td>70.350000</td>\n",
              "      <td>NaN</td>\n",
              "      <td>NaN</td>\n",
              "    </tr>\n",
              "    <tr>\n",
              "      <th>75%</th>\n",
              "      <td>NaN</td>\n",
              "      <td>NaN</td>\n",
              "      <td>0.000000</td>\n",
              "      <td>NaN</td>\n",
              "      <td>NaN</td>\n",
              "      <td>55.000000</td>\n",
              "      <td>NaN</td>\n",
              "      <td>NaN</td>\n",
              "      <td>NaN</td>\n",
              "      <td>NaN</td>\n",
              "      <td>...</td>\n",
              "      <td>NaN</td>\n",
              "      <td>NaN</td>\n",
              "      <td>NaN</td>\n",
              "      <td>NaN</td>\n",
              "      <td>NaN</td>\n",
              "      <td>NaN</td>\n",
              "      <td>NaN</td>\n",
              "      <td>89.850000</td>\n",
              "      <td>NaN</td>\n",
              "      <td>NaN</td>\n",
              "    </tr>\n",
              "    <tr>\n",
              "      <th>max</th>\n",
              "      <td>NaN</td>\n",
              "      <td>NaN</td>\n",
              "      <td>1.000000</td>\n",
              "      <td>NaN</td>\n",
              "      <td>NaN</td>\n",
              "      <td>72.000000</td>\n",
              "      <td>NaN</td>\n",
              "      <td>NaN</td>\n",
              "      <td>NaN</td>\n",
              "      <td>NaN</td>\n",
              "      <td>...</td>\n",
              "      <td>NaN</td>\n",
              "      <td>NaN</td>\n",
              "      <td>NaN</td>\n",
              "      <td>NaN</td>\n",
              "      <td>NaN</td>\n",
              "      <td>NaN</td>\n",
              "      <td>NaN</td>\n",
              "      <td>118.750000</td>\n",
              "      <td>NaN</td>\n",
              "      <td>NaN</td>\n",
              "    </tr>\n",
              "  </tbody>\n",
              "</table>\n",
              "<p>11 rows × 21 columns</p>\n",
              "</div>\n",
              "      <button class=\"colab-df-convert\" onclick=\"convertToInteractive('df-c2300086-23b9-4338-b8df-46e70cc61841')\"\n",
              "              title=\"Convert this dataframe to an interactive table.\"\n",
              "              style=\"display:none;\">\n",
              "        \n",
              "  <svg xmlns=\"http://www.w3.org/2000/svg\" height=\"24px\"viewBox=\"0 0 24 24\"\n",
              "       width=\"24px\">\n",
              "    <path d=\"M0 0h24v24H0V0z\" fill=\"none\"/>\n",
              "    <path d=\"M18.56 5.44l.94 2.06.94-2.06 2.06-.94-2.06-.94-.94-2.06-.94 2.06-2.06.94zm-11 1L8.5 8.5l.94-2.06 2.06-.94-2.06-.94L8.5 2.5l-.94 2.06-2.06.94zm10 10l.94 2.06.94-2.06 2.06-.94-2.06-.94-.94-2.06-.94 2.06-2.06.94z\"/><path d=\"M17.41 7.96l-1.37-1.37c-.4-.4-.92-.59-1.43-.59-.52 0-1.04.2-1.43.59L10.3 9.45l-7.72 7.72c-.78.78-.78 2.05 0 2.83L4 21.41c.39.39.9.59 1.41.59.51 0 1.02-.2 1.41-.59l7.78-7.78 2.81-2.81c.8-.78.8-2.07 0-2.86zM5.41 20L4 18.59l7.72-7.72 1.47 1.35L5.41 20z\"/>\n",
              "  </svg>\n",
              "      </button>\n",
              "      \n",
              "  <style>\n",
              "    .colab-df-container {\n",
              "      display:flex;\n",
              "      flex-wrap:wrap;\n",
              "      gap: 12px;\n",
              "    }\n",
              "\n",
              "    .colab-df-convert {\n",
              "      background-color: #E8F0FE;\n",
              "      border: none;\n",
              "      border-radius: 50%;\n",
              "      cursor: pointer;\n",
              "      display: none;\n",
              "      fill: #1967D2;\n",
              "      height: 32px;\n",
              "      padding: 0 0 0 0;\n",
              "      width: 32px;\n",
              "    }\n",
              "\n",
              "    .colab-df-convert:hover {\n",
              "      background-color: #E2EBFA;\n",
              "      box-shadow: 0px 1px 2px rgba(60, 64, 67, 0.3), 0px 1px 3px 1px rgba(60, 64, 67, 0.15);\n",
              "      fill: #174EA6;\n",
              "    }\n",
              "\n",
              "    [theme=dark] .colab-df-convert {\n",
              "      background-color: #3B4455;\n",
              "      fill: #D2E3FC;\n",
              "    }\n",
              "\n",
              "    [theme=dark] .colab-df-convert:hover {\n",
              "      background-color: #434B5C;\n",
              "      box-shadow: 0px 1px 3px 1px rgba(0, 0, 0, 0.15);\n",
              "      filter: drop-shadow(0px 1px 2px rgba(0, 0, 0, 0.3));\n",
              "      fill: #FFFFFF;\n",
              "    }\n",
              "  </style>\n",
              "\n",
              "      <script>\n",
              "        const buttonEl =\n",
              "          document.querySelector('#df-c2300086-23b9-4338-b8df-46e70cc61841 button.colab-df-convert');\n",
              "        buttonEl.style.display =\n",
              "          google.colab.kernel.accessAllowed ? 'block' : 'none';\n",
              "\n",
              "        async function convertToInteractive(key) {\n",
              "          const element = document.querySelector('#df-c2300086-23b9-4338-b8df-46e70cc61841');\n",
              "          const dataTable =\n",
              "            await google.colab.kernel.invokeFunction('convertToInteractive',\n",
              "                                                     [key], {});\n",
              "          if (!dataTable) return;\n",
              "\n",
              "          const docLinkHtml = 'Like what you see? Visit the ' +\n",
              "            '<a target=\"_blank\" href=https://colab.research.google.com/notebooks/data_table.ipynb>data table notebook</a>'\n",
              "            + ' to learn more about interactive tables.';\n",
              "          element.innerHTML = '';\n",
              "          dataTable['output_type'] = 'display_data';\n",
              "          await google.colab.output.renderOutput(dataTable, element);\n",
              "          const docLink = document.createElement('div');\n",
              "          docLink.innerHTML = docLinkHtml;\n",
              "          element.appendChild(docLink);\n",
              "        }\n",
              "      </script>\n",
              "    </div>\n",
              "  </div>\n",
              "  "
            ]
          },
          "metadata": {},
          "execution_count": 7
        }
      ]
    },
    {
      "cell_type": "code",
      "source": [
        "# Converting TotalCharges into numeric\n",
        "data['TotalCharges'] = pd.to_numeric(data['TotalCharges'], errors='coerce')\n",
        "print(data.dtypes)"
      ],
      "metadata": {
        "colab": {
          "base_uri": "https://localhost:8080/"
        },
        "id": "cjrUmlxX2-da",
        "outputId": "d4ca3215-fac8-4c82-b6de-57a933685a90"
      },
      "execution_count": 8,
      "outputs": [
        {
          "output_type": "stream",
          "name": "stdout",
          "text": [
            "customerID           object\n",
            "gender               object\n",
            "SeniorCitizen         int64\n",
            "Partner              object\n",
            "Dependents           object\n",
            "tenure                int64\n",
            "PhoneService         object\n",
            "MultipleLines        object\n",
            "InternetService      object\n",
            "OnlineSecurity       object\n",
            "OnlineBackup         object\n",
            "DeviceProtection     object\n",
            "TechSupport          object\n",
            "StreamingTV          object\n",
            "StreamingMovies      object\n",
            "Contract             object\n",
            "PaperlessBilling     object\n",
            "PaymentMethod        object\n",
            "MonthlyCharges      float64\n",
            "TotalCharges        float64\n",
            "Churn                object\n",
            "dtype: object\n"
          ]
        }
      ]
    },
    {
      "cell_type": "markdown",
      "source": [
        "# **EDA**"
      ],
      "metadata": {
        "id": "R2ImQSVZl1WK"
      }
    },
    {
      "cell_type": "code",
      "source": [
        "# Checking continuous variables\n",
        "fig = plt.figure(figsize=(15,5))\n",
        "\n",
        "plt.subplot(1,3,1)\n",
        "plt.title(\"tenure\")\n",
        "sns.boxplot(data=data, y = 'tenure', x = 'Churn')\n",
        "\n",
        "plt.subplot(1,3,2)\n",
        "plt.title(\"MonthlyCharges\")\n",
        "sns.boxplot(data=data, y = 'MonthlyCharges', x = 'Churn')\n",
        "\n",
        "plt.subplot(1,3,3)\n",
        "plt.title(\"TotalCharges\")\n",
        "sns.boxplot(data=data, y = 'TotalCharges', x = 'Churn')\n",
        "\n",
        "plt.tight_layout()\n",
        "plt.show()"
      ],
      "metadata": {
        "colab": {
          "base_uri": "https://localhost:8080/",
          "height": 369
        },
        "id": "XvmMSbY4io-Z",
        "outputId": "a061a00b-db26-4d5b-f727-19afe4a788cc"
      },
      "execution_count": 9,
      "outputs": [
        {
          "output_type": "display_data",
          "data": {
            "text/plain": [
              "<Figure size 1080x360 with 3 Axes>"
            ],
            "image/png": "[encoded data removed]"
          },
          "metadata": {
            "needs_background": "light"
          }
        }
      ]
    },
    {
      "cell_type": "code",
      "source": [
        "fig = plt.figure(figsize=(20,15))\n",
        "\n",
        "plt.subplot(4,4,1)\n",
        "plt.title(\"gender\")\n",
        "sns.countplot(data=data, x = 'gender', hue='Churn')\n",
        "\n",
        "plt.subplot(4,4,2)\n",
        "plt.title(\"SeniorCitizen\")\n",
        "sns.countplot(data=data, x = 'SeniorCitizen', hue = 'Churn')\n",
        "\n",
        "plt.subplot(4,4,3)\n",
        "plt.title(\"Partner\")\n",
        "sns.countplot(data=data, x = 'Partner', hue = 'Churn')\n",
        "\n",
        "plt.subplot(4,4,4)\n",
        "plt.title(\"Dependents\")\n",
        "sns.countplot(data=data, x = 'Dependents', hue = 'Churn')\n",
        "\n",
        "plt.subplot(4,4,5)\n",
        "plt.title(\"PhoneService\")\n",
        "sns.countplot(data=data, x = 'PhoneService', hue = 'Churn')\n",
        "\n",
        "plt.subplot(4,4,6)\n",
        "plt.title(\"MultipleLines\")\n",
        "sns.countplot(data=data, x = 'MultipleLines', hue = 'Churn')\n",
        "\n",
        "plt.subplot(4,4,7)\n",
        "plt.title(\"InternetService\")\n",
        "sns.countplot(data=data, x = 'InternetService', hue = 'Churn')\n",
        "\n",
        "plt.subplot(4,4,8)\n",
        "plt.title(\"OnlineSecurity\")\n",
        "sns.countplot(data=data, x = 'OnlineSecurity', hue = 'Churn')\n",
        "\n",
        "plt.subplot(4,4,9)\n",
        "plt.title(\"OnlineBackup\")\n",
        "sns.countplot(data=data, x = 'OnlineBackup', hue = 'Churn')\n",
        "\n",
        "plt.subplot(4,4,10)\n",
        "plt.title(\"StreamingMovies\")\n",
        "sns.countplot(data=data, x = 'StreamingMovies', hue = 'Churn')\n",
        "\n",
        "plt.subplot(4,4,11)\n",
        "plt.title(\"DeviceProtection\")\n",
        "sns.countplot(data=data, x = 'DeviceProtection', hue = 'Churn')\n",
        "\n",
        "plt.subplot(4,4,12)\n",
        "plt.title(\"TechSupport\")\n",
        "sns.countplot(data=data, x = 'TechSupport', hue = 'Churn')\n",
        "\n",
        "plt.subplot(4,4,13)\n",
        "plt.title(\"StreamingTV\")\n",
        "sns.countplot(data=data, x = 'StreamingTV', hue = 'Churn')\n",
        "\n",
        "plt.subplot(4,4,14)\n",
        "plt.title(\"Contract\")\n",
        "sns.countplot(data=data, x = 'Contract', hue = 'Churn')\n",
        "\n",
        "plt.subplot(4,4,15)\n",
        "plt.title(\"PaperlessBilling\")\n",
        "sns.countplot(data=data, x = 'PaperlessBilling', hue = 'Churn')\n",
        "\n",
        "plt.subplot(4,4,16)\n",
        "plt.title(\"PaymentMethod\")\n",
        "sns.countplot(data=data, x = 'PaymentMethod', hue = 'Churn')\n",
        "\n",
        "\n",
        "plt.tight_layout()\n",
        "plt.show()"
      ],
      "metadata": {
        "colab": {
          "base_uri": "https://localhost:8080/",
          "height": 952
        },
        "id": "44qeNGeXl689",
        "outputId": "22da1ed9-fd04-43f7-bbde-5d7233cb9064"
      },
      "execution_count": 10,
      "outputs": [
        {
          "output_type": "display_data",
          "data": {
            "text/plain": [
              "<Figure size 1440x1080 with 16 Axes>"
            ],
            "image/png": "[encoded data removed]"
          },
          "metadata": {
            "needs_background": "light"
          }
        }
      ]
    },
    {
      "cell_type": "code",
      "source": [
        "data.isna().sum()"
      ],
      "metadata": {
        "colab": {
          "base_uri": "https://localhost:8080/"
        },
        "id": "ecBa11Yj9TUd",
        "outputId": "1ec91ea6-d392-4269-f56e-a66e7d790e2c"
      },
      "execution_count": 11,
      "outputs": [
        {
          "output_type": "execute_result",
          "data": {
            "text/plain": [
              "customerID           0\n",
              "gender               0\n",
              "SeniorCitizen        0\n",
              "Partner              0\n",
              "Dependents           0\n",
              "tenure               0\n",
              "PhoneService         0\n",
              "MultipleLines        0\n",
              "InternetService      0\n",
              "OnlineSecurity       0\n",
              "OnlineBackup         0\n",
              "DeviceProtection     0\n",
              "TechSupport          0\n",
              "StreamingTV          0\n",
              "StreamingMovies      0\n",
              "Contract             0\n",
              "PaperlessBilling     0\n",
              "PaymentMethod        0\n",
              "MonthlyCharges       0\n",
              "TotalCharges        11\n",
              "Churn                0\n",
              "dtype: int64"
            ]
          },
          "metadata": {},
          "execution_count": 11
        }
      ]
    },
    {
      "cell_type": "code",
      "source": [
        "data.replace([np.inf, -np.inf], np.nan, inplace=True)\n",
        "data=data.dropna()"
      ],
      "metadata": {
        "id": "KuqpBiWi-N6J"
      },
      "execution_count": 12,
      "outputs": []
    },
    {
      "cell_type": "code",
      "source": [
        "vif_data=data[['SeniorCitizen','tenure','MonthlyCharges']]"
      ],
      "metadata": {
        "id": "BalbyER6ipBt"
      },
      "execution_count": 13,
      "outputs": []
    },
    {
      "cell_type": "code",
      "source": [
        "pd.DataFrame({'feature':vif_data.columns, 'VIF':[variance_inflation_factor(vif_data.values,i) for i in range(vif_data.shape[1])]})"
      ],
      "metadata": {
        "colab": {
          "base_uri": "https://localhost:8080/",
          "height": 143
        },
        "id": "y_qhjm0OipEk",
        "outputId": "e3d7063e-a794-44ea-f1d8-e17286055333"
      },
      "execution_count": 14,
      "outputs": [
        {
          "output_type": "execute_result",
          "data": {
            "text/plain": [
              "          feature       VIF\n",
              "0   SeniorCitizen  1.256633\n",
              "1          tenure  2.620398\n",
              "2  MonthlyCharges  2.928852"
            ],
            "text/html": [
              "\n",
              "  <div id=\"df-2c89b13b-91e3-4ba2-a055-e8bc8c76ab81\">\n",
              "    <div class=\"colab-df-container\">\n",
              "      <div>\n",
              "<style scoped>\n",
              "    .dataframe tbody tr th:only-of-type {\n",
              "        vertical-align: middle;\n",
              "    }\n",
              "\n",
              "    .dataframe tbody tr th {\n",
              "        vertical-align: top;\n",
              "    }\n",
              "\n",
              "    .dataframe thead th {\n",
              "        text-align: right;\n",
              "    }\n",
              "</style>\n",
              "<table border=\"1\" class=\"dataframe\">\n",
              "  <thead>\n",
              "    <tr style=\"text-align: right;\">\n",
              "      <th></th>\n",
              "      <th>feature</th>\n",
              "      <th>VIF</th>\n",
              "    </tr>\n",
              "  </thead>\n",
              "  <tbody>\n",
              "    <tr>\n",
              "      <th>0</th>\n",
              "      <td>SeniorCitizen</td>\n",
              "      <td>1.256633</td>\n",
              "    </tr>\n",
              "    <tr>\n",
              "      <th>1</th>\n",
              "      <td>tenure</td>\n",
              "      <td>2.620398</td>\n",
              "    </tr>\n",
              "    <tr>\n",
              "      <th>2</th>\n",
              "      <td>MonthlyCharges</td>\n",
              "      <td>2.928852</td>\n",
              "    </tr>\n",
              "  </tbody>\n",
              "</table>\n",
              "</div>\n",
              "      <button class=\"colab-df-convert\" onclick=\"convertToInteractive('df-2c89b13b-91e3-4ba2-a055-e8bc8c76ab81')\"\n",
              "              title=\"Convert this dataframe to an interactive table.\"\n",
              "              style=\"display:none;\">\n",
              "        \n",
              "  <svg xmlns=\"http://www.w3.org/2000/svg\" height=\"24px\"viewBox=\"0 0 24 24\"\n",
              "       width=\"24px\">\n",
              "    <path d=\"M0 0h24v24H0V0z\" fill=\"none\"/>\n",
              "    <path d=\"M18.56 5.44l.94 2.06.94-2.06 2.06-.94-2.06-.94-.94-2.06-.94 2.06-2.06.94zm-11 1L8.5 8.5l.94-2.06 2.06-.94-2.06-.94L8.5 2.5l-.94 2.06-2.06.94zm10 10l.94 2.06.94-2.06 2.06-.94-2.06-.94-.94-2.06-.94 2.06-2.06.94z\"/><path d=\"M17.41 7.96l-1.37-1.37c-.4-.4-.92-.59-1.43-.59-.52 0-1.04.2-1.43.59L10.3 9.45l-7.72 7.72c-.78.78-.78 2.05 0 2.83L4 21.41c.39.39.9.59 1.41.59.51 0 1.02-.2 1.41-.59l7.78-7.78 2.81-2.81c.8-.78.8-2.07 0-2.86zM5.41 20L4 18.59l7.72-7.72 1.47 1.35L5.41 20z\"/>\n",
              "  </svg>\n",
              "      </button>\n",
              "      \n",
              "  <style>\n",
              "    .colab-df-container {\n",
              "      display:flex;\n",
              "      flex-wrap:wrap;\n",
              "      gap: 12px;\n",
              "    }\n",
              "\n",
              "    .colab-df-convert {\n",
              "      background-color: #E8F0FE;\n",
              "      border: none;\n",
              "      border-radius: 50%;\n",
              "      cursor: pointer;\n",
              "      display: none;\n",
              "      fill: #1967D2;\n",
              "      height: 32px;\n",
              "      padding: 0 0 0 0;\n",
              "      width: 32px;\n",
              "    }\n",
              "\n",
              "    .colab-df-convert:hover {\n",
              "      background-color: #E2EBFA;\n",
              "      box-shadow: 0px 1px 2px rgba(60, 64, 67, 0.3), 0px 1px 3px 1px rgba(60, 64, 67, 0.15);\n",
              "      fill: #174EA6;\n",
              "    }\n",
              "\n",
              "    [theme=dark] .colab-df-convert {\n",
              "      background-color: #3B4455;\n",
              "      fill: #D2E3FC;\n",
              "    }\n",
              "\n",
              "    [theme=dark] .colab-df-convert:hover {\n",
              "      background-color: #434B5C;\n",
              "      box-shadow: 0px 1px 3px 1px rgba(0, 0, 0, 0.15);\n",
              "      filter: drop-shadow(0px 1px 2px rgba(0, 0, 0, 0.3));\n",
              "      fill: #FFFFFF;\n",
              "    }\n",
              "  </style>\n",
              "\n",
              "      <script>\n",
              "        const buttonEl =\n",
              "          document.querySelector('#df-2c89b13b-91e3-4ba2-a055-e8bc8c76ab81 button.colab-df-convert');\n",
              "        buttonEl.style.display =\n",
              "          google.colab.kernel.accessAllowed ? 'block' : 'none';\n",
              "\n",
              "        async function convertToInteractive(key) {\n",
              "          const element = document.querySelector('#df-2c89b13b-91e3-4ba2-a055-e8bc8c76ab81');\n",
              "          const dataTable =\n",
              "            await google.colab.kernel.invokeFunction('convertToInteractive',\n",
              "                                                     [key], {});\n",
              "          if (!dataTable) return;\n",
              "\n",
              "          const docLinkHtml = 'Like what you see? Visit the ' +\n",
              "            '<a target=\"_blank\" href=https://colab.research.google.com/notebooks/data_table.ipynb>data table notebook</a>'\n",
              "            + ' to learn more about interactive tables.';\n",
              "          element.innerHTML = '';\n",
              "          dataTable['output_type'] = 'display_data';\n",
              "          await google.colab.output.renderOutput(dataTable, element);\n",
              "          const docLink = document.createElement('div');\n",
              "          docLink.innerHTML = docLinkHtml;\n",
              "          element.appendChild(docLink);\n",
              "        }\n",
              "      </script>\n",
              "    </div>\n",
              "  </div>\n",
              "  "
            ]
          },
          "metadata": {},
          "execution_count": 14
        }
      ]
    },
    {
      "cell_type": "markdown",
      "source": [
        "We removed TotalCharges after the VIF analysis\n",
        "\n",
        "VIF Threshold is 5 "
      ],
      "metadata": {
        "id": "8V-bgR8tCuE4"
      }
    },
    {
      "cell_type": "code",
      "source": [
        "# Converting Churn YES into 1 and Churn NO into 0\n",
        "data['Class']=data['Churn'].map({'Yes': 1, 'No': 0})"
      ],
      "metadata": {
        "id": "HpHmcZXtipHy",
        "colab": {
          "base_uri": "https://localhost:8080/"
        },
        "outputId": "2ded778b-c733-4dff-a622-b60fa1575ce5"
      },
      "execution_count": 15,
      "outputs": [
        {
          "output_type": "stream",
          "name": "stderr",
          "text": [
            "/usr/local/lib/python3.7/dist-packages/ipykernel_launcher.py:2: SettingWithCopyWarning: \n",
            "A value is trying to be set on a copy of a slice from a DataFrame.\n",
            "Try using .loc[row_indexer,col_indexer] = value instead\n",
            "\n",
            "See the caveats in the documentation: https://pandas.pydata.org/pandas-docs/stable/user_guide/indexing.html#returning-a-view-versus-a-copy\n",
            "  \n"
          ]
        }
      ]
    },
    {
      "cell_type": "code",
      "source": [
        "y=data['Class'].copy()\n",
        "input=data.drop(['customerID','TotalCharges','Class','Churn'],axis=1).copy()"
      ],
      "metadata": {
        "id": "lu7JjZhbGc97"
      },
      "execution_count": 16,
      "outputs": []
    },
    {
      "cell_type": "code",
      "source": [
        "X=pd.get_dummies(input)"
      ],
      "metadata": {
        "id": "TAnL4z1iipLf"
      },
      "execution_count": 17,
      "outputs": []
    },
    {
      "cell_type": "code",
      "source": [
        "X.shape"
      ],
      "metadata": {
        "colab": {
          "base_uri": "https://localhost:8080/"
        },
        "id": "v_2I9wLtipON",
        "outputId": "aaf284b7-281c-4678-bc9d-a81c43e7aadc"
      },
      "execution_count": 18,
      "outputs": [
        {
          "output_type": "execute_result",
          "data": {
            "text/plain": [
              "(7032, 44)"
            ]
          },
          "metadata": {},
          "execution_count": 18
        }
      ]
    },
    {
      "cell_type": "markdown",
      "source": [
        "## Normalization"
      ],
      "metadata": {
        "id": "DKDJh2H6Olql"
      }
    },
    {
      "cell_type": "code",
      "source": [
        "scaler=MinMaxScaler()\n",
        "scaler.fit(X)\n",
        "x=scaler.transform(X)"
      ],
      "metadata": {
        "id": "AB8kaH8TipRU"
      },
      "execution_count": 19,
      "outputs": []
    },
    {
      "cell_type": "markdown",
      "source": [
        "## Splitting dataset into Train and Test"
      ],
      "metadata": {
        "id": "0u-aDA8GPlJt"
      }
    },
    {
      "cell_type": "code",
      "source": [
        "x_train,x_test,y_train,y_test=train_test_split(x,y,test_size=0.2,random_state=42,stratify=y)"
      ],
      "metadata": {
        "id": "LQuKqd-UipTy"
      },
      "execution_count": 20,
      "outputs": []
    },
    {
      "cell_type": "code",
      "source": [
        "y_train.value_counts()"
      ],
      "metadata": {
        "colab": {
          "base_uri": "https://localhost:8080/"
        },
        "id": "0BccTAkFw7lC",
        "outputId": "5b99e512-0f27-47af-bc9e-cabfddd65cf5"
      },
      "execution_count": 21,
      "outputs": [
        {
          "output_type": "execute_result",
          "data": {
            "text/plain": [
              "0    4130\n",
              "1    1495\n",
              "Name: Class, dtype: int64"
            ]
          },
          "metadata": {},
          "execution_count": 21
        }
      ]
    },
    {
      "cell_type": "code",
      "source": [
        "y_test.value_counts()"
      ],
      "metadata": {
        "colab": {
          "base_uri": "https://localhost:8080/"
        },
        "id": "W75GIZv9RyrH",
        "outputId": "3c7a3e4d-e187-4fb4-a514-978a64194e9f"
      },
      "execution_count": 22,
      "outputs": [
        {
          "output_type": "execute_result",
          "data": {
            "text/plain": [
              "0    1033\n",
              "1     374\n",
              "Name: Class, dtype: int64"
            ]
          },
          "metadata": {},
          "execution_count": 22
        }
      ]
    },
    {
      "cell_type": "markdown",
      "source": [
        "## Training Our Model"
      ],
      "metadata": {
        "id": "bMHcivSwTN00"
      }
    },
    {
      "cell_type": "code",
      "source": [
        "logit = LogisticRegression(fit_intercept=True, max_iter=10000)\n",
        "logit.fit(x_train, y_train)"
      ],
      "metadata": {
        "colab": {
          "base_uri": "https://localhost:8080/"
        },
        "id": "m3jWfOqsSt5m",
        "outputId": "f41641cf-1edd-4d5f-c283-3992435546cf"
      },
      "execution_count": 23,
      "outputs": [
        {
          "output_type": "execute_result",
          "data": {
            "text/plain": [
              "LogisticRegression(max_iter=10000)"
            ]
          },
          "metadata": {},
          "execution_count": 23
        }
      ]
    },
    {
      "cell_type": "code",
      "source": [
        "# value of coeficients\n",
        "logit.coef_"
      ],
      "metadata": {
        "colab": {
          "base_uri": "https://localhost:8080/"
        },
        "id": "_ugRmc8KTYO-",
        "outputId": "9cff0764-c990-4295-bb1d-8629a5abe9a4"
      },
      "execution_count": 24,
      "outputs": [
        {
          "output_type": "execute_result",
          "data": {
            "text/plain": [
              "array([[ 0.18869201, -2.25478919, -0.33846672,  0.01181811, -0.0111341 ,\n",
              "         0.01741424, -0.01673024,  0.1214331 , -0.1207491 ,  0.07721099,\n",
              "        -0.07652699, -0.21219236,  0.07721099,  0.13566537, -0.42694237,\n",
              "         0.55212298, -0.12449661,  0.25813143, -0.12449661, -0.13295082,\n",
              "         0.13184929, -0.12449661, -0.00666868,  0.03199212, -0.12449661,\n",
              "         0.09318848,  0.23487424, -0.12449661, -0.10969363, -0.10283324,\n",
              "        -0.12449661,  0.22801385, -0.08942293, -0.12449661,  0.21460354,\n",
              "         0.72041532, -0.05136029, -0.66837102, -0.14373712,  0.14442112,\n",
              "        -0.14295198, -0.09755733,  0.25370378, -0.01251046]])"
            ]
          },
          "metadata": {},
          "execution_count": 24
        }
      ]
    },
    {
      "cell_type": "code",
      "source": [
        "# Intercept\n",
        "logit.intercept_"
      ],
      "metadata": {
        "colab": {
          "base_uri": "https://localhost:8080/"
        },
        "id": "PkPE2Gd-Ulxo",
        "outputId": "29117ad2-2a82-4196-9ebf-fb105b8336cd"
      },
      "execution_count": 25,
      "outputs": [
        {
          "output_type": "execute_result",
          "data": {
            "text/plain": [
              "array([-1.01738815])"
            ]
          },
          "metadata": {},
          "execution_count": 25
        }
      ]
    },
    {
      "cell_type": "markdown",
      "source": [
        "##**Lets Evaluate the Performance of Our Model**"
      ],
      "metadata": {
        "id": "DnDVnoJqUu2x"
      }
    },
    {
      "cell_type": "code",
      "source": [
        "# Getting the predicted probabilities\n",
        "train_pred_prob=logit.predict_proba(x_train)[:,1]\n",
        "test_pred_prob=logit.predict_proba(x_test)[:,1]"
      ],
      "metadata": {
        "id": "caX_HYsjUqV4"
      },
      "execution_count": 26,
      "outputs": []
    },
    {
      "cell_type": "code",
      "source": [
        "train_pred_prob"
      ],
      "metadata": {
        "colab": {
          "base_uri": "https://localhost:8080/"
        },
        "id": "86p3WzPuVyNW",
        "outputId": "743fd205-323e-4a81-a0f9-09b9c9280eb5"
      },
      "execution_count": 27,
      "outputs": [
        {
          "output_type": "execute_result",
          "data": {
            "text/plain": [
              "array([0.01626665, 0.26825958, 0.02856356, ..., 0.0388362 , 0.17753176,\n",
              "       0.78638912])"
            ]
          },
          "metadata": {},
          "execution_count": 27
        }
      ]
    },
    {
      "cell_type": "code",
      "source": [
        "test_pred_prob"
      ],
      "metadata": {
        "colab": {
          "base_uri": "https://localhost:8080/"
        },
        "id": "LPbiA0T4VyQ8",
        "outputId": "c3deb3f7-fe66-4be2-dd0b-a65e4e8de97b"
      },
      "execution_count": 28,
      "outputs": [
        {
          "output_type": "execute_result",
          "data": {
            "text/plain": [
              "array([0.01983829, 0.59841625, 0.01055108, ..., 0.11538515, 0.03466955,\n",
              "       0.0086519 ])"
            ]
          },
          "metadata": {},
          "execution_count": 28
        }
      ]
    },
    {
      "cell_type": "code",
      "source": [
        "# Get the predicted classes\n",
        "train_class_preds = logit.predict(x_train)\n",
        "test_class_preds = logit.predict(x_test)"
      ],
      "metadata": {
        "id": "_zSGkd8vWzGx"
      },
      "execution_count": 29,
      "outputs": []
    },
    {
      "cell_type": "code",
      "source": [
        "train_class_preds"
      ],
      "metadata": {
        "colab": {
          "base_uri": "https://localhost:8080/"
        },
        "id": "kcsWOANmW1ul",
        "outputId": "65298554-c8c6-436a-f3f1-d398dee1208b"
      },
      "execution_count": 30,
      "outputs": [
        {
          "output_type": "execute_result",
          "data": {
            "text/plain": [
              "array([0, 0, 0, ..., 0, 0, 1])"
            ]
          },
          "metadata": {},
          "execution_count": 30
        }
      ]
    },
    {
      "cell_type": "code",
      "source": [
        "test_class_preds"
      ],
      "metadata": {
        "colab": {
          "base_uri": "https://localhost:8080/"
        },
        "id": "gJDrf_f3W1xh",
        "outputId": "ed1b85bf-bd30-4361-b354-d173650209cf"
      },
      "execution_count": 31,
      "outputs": [
        {
          "output_type": "execute_result",
          "data": {
            "text/plain": [
              "array([0, 1, 0, ..., 0, 0, 0])"
            ]
          },
          "metadata": {},
          "execution_count": 31
        }
      ]
    },
    {
      "cell_type": "markdown",
      "source": [
        "## Lets take a look at the Evaluation matrix\n"
      ],
      "metadata": {
        "id": "oglHvAn1YJY9"
      }
    },
    {
      "cell_type": "code",
      "source": [
        "fig = plt.figure(figsize=(15,5))\n",
        "\n",
        "plt.subplot(1,2,1)\n",
        "plt.title(\"Train Confusion Matrix\")\n",
        "labels = ['Retained', 'Churned']\n",
        "cm_train = confusion_matrix(y_train, train_class_preds)\n",
        "print(cm_train)\n",
        "sns.heatmap(cm_train, annot=True) #annot=True to annotate cells\n",
        "# labels and ticks\n",
        "plt.xlabel('Predicted labels')\n",
        "plt.ylabel('True labels')\n",
        "plt.xticks([0.5,1.5],labels)\n",
        "plt.yticks([0.5,1.5],labels)\n",
        "\n",
        "plt.subplot(1,2,2)\n",
        "plt.title(\"Test Confusion Matrix\")\n",
        "labels = ['Retained', 'Churned']\n",
        "cm_test = confusion_matrix(y_test, test_class_preds)\n",
        "print(cm_test)\n",
        "sns.heatmap(cm_test, annot=True) #annot=True to annotate cells\n",
        "# labels and ticks\n",
        "plt.xlabel('Predicted labels')\n",
        "plt.ylabel('True labels')\n",
        "plt.xticks([0.5,1.5],labels)\n",
        "plt.yticks([0.5,1.5],labels)\n",
        "\n",
        "plt.tight_layout()\n",
        "plt.show()\n"
      ],
      "metadata": {
        "colab": {
          "base_uri": "https://localhost:8080/",
          "height": 438
        },
        "id": "Yy4r4rBgYIWk",
        "outputId": "022b5b50-f8ac-45c7-b572-1061bfca2271"
      },
      "execution_count": 33,
      "outputs": [
        {
          "output_type": "stream",
          "name": "stdout",
          "text": [
            "[[3706  424]\n",
            " [ 681  814]]\n",
            "[[913 120]\n",
            " [158 216]]\n"
          ]
        },
        {
          "output_type": "display_data",
          "data": {
            "text/plain": [
              "<Figure size 1080x360 with 4 Axes>"
            ],
            "image/png": "[encoded data removed]"
          },
          "metadata": {
            "needs_background": "light"
          }
        }
      ]
    },
    {
      "cell_type": "markdown",
      "source": [
        "## **Accuracy**"
      ],
      "metadata": {
        "id": "brZZMx-AtDgF"
      }
    },
    {
      "cell_type": "code",
      "source": [
        "accuracy_train=accuracy_score(y_train, train_class_preds)\n",
        "accuracy_train"
      ],
      "metadata": {
        "colab": {
          "base_uri": "https://localhost:8080/"
        },
        "id": "G2D_RGeF42Sb",
        "outputId": "0d7ec99d-4405-4c32-90bf-37c2d96523fb"
      },
      "execution_count": 44,
      "outputs": [
        {
          "output_type": "execute_result",
          "data": {
            "text/plain": [
              "0.8035555555555556"
            ]
          },
          "metadata": {},
          "execution_count": 44
        }
      ]
    },
    {
      "cell_type": "code",
      "source": [
        "accuracy_test=accuracy_score(y_test, test_class_preds)\n",
        "accuracy_test"
      ],
      "metadata": {
        "colab": {
          "base_uri": "https://localhost:8080/"
        },
        "id": "N5-Lf2aa5VLS",
        "outputId": "094c7e5f-fdc7-49a4-d6f0-4102e2504ebd"
      },
      "execution_count": 45,
      "outputs": [
        {
          "output_type": "execute_result",
          "data": {
            "text/plain": [
              "0.8024164889836531"
            ]
          },
          "metadata": {},
          "execution_count": 45
        }
      ]
    },
    {
      "cell_type": "markdown",
      "source": [
        "##**Precision**\n",
        "Precision: The ability of a classification model to identify only the relevant data points. Mathematically, precision the **number of true positives divided by the number of true positives plus the number of false positives.**"
      ],
      "metadata": {
        "id": "t1nejQCWgNNa"
      }
    },
    {
      "cell_type": "code",
      "source": [
        "precision_train=cm_train[1,1]/(cm_train[1,1]+cm_train[0,1])\n",
        "precision_train"
      ],
      "metadata": {
        "colab": {
          "base_uri": "https://localhost:8080/"
        },
        "id": "ayvBhFQCW13q",
        "outputId": "bf05833e-f278-4ed0-d675-70b91bd7fdf5"
      },
      "execution_count": 34,
      "outputs": [
        {
          "output_type": "execute_result",
          "data": {
            "text/plain": [
              "0.6575121163166397"
            ]
          },
          "metadata": {},
          "execution_count": 34
        }
      ]
    },
    {
      "cell_type": "code",
      "source": [
        "precision_test=cm_test[1,1]/(cm_test[1,1]+cm_test[0,1])\n",
        "precision_test"
      ],
      "metadata": {
        "colab": {
          "base_uri": "https://localhost:8080/"
        },
        "id": "fXqLySKZW2lQ",
        "outputId": "51c2dc6c-d446-41b2-dfbb-9c735c48fba8"
      },
      "execution_count": 35,
      "outputs": [
        {
          "output_type": "execute_result",
          "data": {
            "text/plain": [
              "0.6428571428571429"
            ]
          },
          "metadata": {},
          "execution_count": 35
        }
      ]
    },
    {
      "cell_type": "markdown",
      "source": [
        "## **Recall**\n",
        "Recall: The ability of a model to find all the relevant cases within a data set. Mathematically, we define recall as the **number of true positives divided by the number of true positives plus the number of false negatives.**"
      ],
      "metadata": {
        "id": "c_8asu6Ch_Qu"
      }
    },
    {
      "cell_type": "code",
      "source": [
        "recall_train=cm_train[1,1]/(cm_train[1,1]+cm_train[1,0])\n",
        "recall_train"
      ],
      "metadata": {
        "colab": {
          "base_uri": "https://localhost:8080/"
        },
        "id": "lBns9OlqW2of",
        "outputId": "14b3dde3-80dd-4098-eea9-299e9940ea62"
      },
      "execution_count": 36,
      "outputs": [
        {
          "output_type": "execute_result",
          "data": {
            "text/plain": [
              "0.5444816053511705"
            ]
          },
          "metadata": {},
          "execution_count": 36
        }
      ]
    },
    {
      "cell_type": "code",
      "source": [
        "recall_test=cm_test[1,1]/(cm_test[1,1]+cm_test[1,0])\n",
        "recall_test"
      ],
      "metadata": {
        "colab": {
          "base_uri": "https://localhost:8080/"
        },
        "id": "aeUvY5IHkqsM",
        "outputId": "1e055178-2c32-4e6e-fdb7-08d633e6dd78"
      },
      "execution_count": 37,
      "outputs": [
        {
          "output_type": "execute_result",
          "data": {
            "text/plain": [
              "0.5775401069518716"
            ]
          },
          "metadata": {},
          "execution_count": 37
        }
      ]
    },
    {
      "cell_type": "markdown",
      "source": [
        "## **F1- Score**\n",
        "**F1 = 2$ * $(precision$ * $recall) / (precision + recall)**"
      ],
      "metadata": {
        "id": "ii2_muEkmAoM"
      }
    },
    {
      "cell_type": "code",
      "source": [
        "f1_score_train=f1_score(y_train, train_class_preds)\n",
        "f1_score_train"
      ],
      "metadata": {
        "colab": {
          "base_uri": "https://localhost:8080/"
        },
        "id": "uEyMNCSQkqvk",
        "outputId": "48f4d800-ec6c-4ffa-f34e-e41a5d0696c5"
      },
      "execution_count": 38,
      "outputs": [
        {
          "output_type": "execute_result",
          "data": {
            "text/plain": [
              "0.5956824002927186"
            ]
          },
          "metadata": {},
          "execution_count": 38
        }
      ]
    },
    {
      "cell_type": "code",
      "source": [
        "f1_score_test=f1_score(y_test, test_class_preds)\n",
        "f1_score_test"
      ],
      "metadata": {
        "colab": {
          "base_uri": "https://localhost:8080/"
        },
        "id": "EyRh_pa5kqz2",
        "outputId": "f16d8b91-9999-4abb-e2d5-e9d771190076"
      },
      "execution_count": 39,
      "outputs": [
        {
          "output_type": "execute_result",
          "data": {
            "text/plain": [
              "0.6084507042253521"
            ]
          },
          "metadata": {},
          "execution_count": 39
        }
      ]
    },
    {
      "cell_type": "markdown",
      "source": [
        "## **Log-Loss**\n",
        "\\begin{align*}\n",
        "  Log Loss &= \\sum_{i=1}^{M} [ y^{i}log(P^{i}) + (1- y^{i})log(1 - P^{i} )]\\\\\n",
        "\\end{align*}"
      ],
      "metadata": {
        "id": "8R4E9j35n6ye"
      }
    },
    {
      "cell_type": "code",
      "source": [
        "log_loss_train=log_loss(y_train,train_class_preds)\n",
        "log_loss_train"
      ],
      "metadata": {
        "colab": {
          "base_uri": "https://localhost:8080/"
        },
        "id": "oWfm_vS8kq5L",
        "outputId": "6d0f390f-cb7b-4f06-ad98-8b110e9bd376"
      },
      "execution_count": 40,
      "outputs": [
        {
          "output_type": "execute_result",
          "data": {
            "text/plain": [
              "6.7850110125665255"
            ]
          },
          "metadata": {},
          "execution_count": 40
        }
      ]
    },
    {
      "cell_type": "code",
      "source": [
        "log_loss_test=log_loss(y_test,test_class_preds)\n",
        "log_loss_test"
      ],
      "metadata": {
        "colab": {
          "base_uri": "https://localhost:8080/"
        },
        "id": "Q9TnbPH1kq_A",
        "outputId": "3781b754-3d11-4f3c-e78f-1cf2f111cd7d"
      },
      "execution_count": 41,
      "outputs": [
        {
          "output_type": "execute_result",
          "data": {
            "text/plain": [
              "6.824360902257848"
            ]
          },
          "metadata": {},
          "execution_count": 41
        }
      ]
    },
    {
      "cell_type": "markdown",
      "source": [
        "## **ROC-AUC**"
      ],
      "metadata": {
        "id": "v4fL6D0cpmND"
      }
    },
    {
      "cell_type": "code",
      "source": [
        "train_auc=roc_auc_score(y_train,train_pred_prob)\n",
        "train_auc"
      ],
      "metadata": {
        "colab": {
          "base_uri": "https://localhost:8080/"
        },
        "id": "kQBTR0vgphVX",
        "outputId": "f804ed93-fce3-4e5f-bd64-a440664abac1"
      },
      "execution_count": 42,
      "outputs": [
        {
          "output_type": "execute_result",
          "data": {
            "text/plain": [
              "0.8486424481929271"
            ]
          },
          "metadata": {},
          "execution_count": 42
        }
      ]
    },
    {
      "cell_type": "code",
      "source": [
        "test_auc=roc_auc_score(y_test,test_pred_prob)\n",
        "test_auc"
      ],
      "metadata": {
        "colab": {
          "base_uri": "https://localhost:8080/"
        },
        "id": "23xCGok6qwhJ",
        "outputId": "b2d73da2-4668-452c-f237-4986934eefff"
      },
      "execution_count": 43,
      "outputs": [
        {
          "output_type": "execute_result",
          "data": {
            "text/plain": [
              "0.8333872579217378"
            ]
          },
          "metadata": {},
          "execution_count": 43
        }
      ]
    },
    {
      "cell_type": "markdown",
      "metadata": {
        "id": "ut6Z2EFrLgYJ"
      },
      "source": [
        "## <b><u>Implementing Cross-validated Logistic Regression"
      ]
    },
    {
      "cell_type": "code",
      "metadata": {
        "id": "FAIV9X2gFfL2"
      },
      "source": [
        "logistic = LogisticRegression()"
      ],
      "execution_count": 67,
      "outputs": []
    },
    {
      "cell_type": "code",
      "metadata": {
        "colab": {
          "base_uri": "https://localhost:8080/"
        },
        "id": "M8hlX3nyFYH2",
        "outputId": "00e466f2-fbd9-437b-da49-420aa46f2735"
      },
      "source": [
        "scoring = ['accuracy']\n",
        "c_values = {'C':[100, 10, 1.0, 0.1, 0.01]}\n",
        "scores = cross_validate(logistic,x_train, y_train , scoring = scoring, cv = 5, return_train_score=True,return_estimator=True,verbose = 10)"
      ],
      "execution_count": 68,
      "outputs": [
        {
          "output_type": "stream",
          "name": "stderr",
          "text": [
            "[Parallel(n_jobs=1)]: Using backend SequentialBackend with 1 concurrent workers.\n",
            "[Parallel(n_jobs=1)]: Done   1 out of   1 | elapsed:    0.1s remaining:    0.0s\n"
          ]
        },
        {
          "output_type": "stream",
          "name": "stdout",
          "text": [
            "[CV] START .....................................................................\n",
            "[CV] END ................ accuracy: (train=0.808, test=0.784) total time=   0.1s\n",
            "[CV] START .....................................................................\n",
            "[CV] END ................ accuracy: (train=0.801, test=0.822) total time=   0.1s\n",
            "[CV] START .....................................................................\n",
            "[CV] END ................ accuracy: (train=0.804, test=0.804) total time=   0.1s\n",
            "[CV] START .....................................................................\n"
          ]
        },
        {
          "output_type": "stream",
          "name": "stderr",
          "text": [
            "[Parallel(n_jobs=1)]: Done   2 out of   2 | elapsed:    0.2s remaining:    0.0s\n",
            "[Parallel(n_jobs=1)]: Done   3 out of   3 | elapsed:    0.3s remaining:    0.0s\n"
          ]
        },
        {
          "output_type": "stream",
          "name": "stdout",
          "text": [
            "[CV] END ................ accuracy: (train=0.807, test=0.788) total time=   0.1s\n",
            "[CV] START .....................................................................\n",
            "[CV] END ................ accuracy: (train=0.799, test=0.808) total time=   0.1s\n"
          ]
        },
        {
          "output_type": "stream",
          "name": "stderr",
          "text": [
            "[Parallel(n_jobs=1)]: Done   4 out of   4 | elapsed:    0.5s remaining:    0.0s\n",
            "[Parallel(n_jobs=1)]: Done   5 out of   5 | elapsed:    0.6s remaining:    0.0s\n",
            "[Parallel(n_jobs=1)]: Done   5 out of   5 | elapsed:    0.6s finished\n"
          ]
        }
      ]
    },
    {
      "cell_type": "code",
      "metadata": {
        "colab": {
          "base_uri": "https://localhost:8080/"
        },
        "id": "xxWSL1hnFuje",
        "outputId": "d3cfc0b8-c6be-440c-8a08-834cc12f993e"
      },
      "source": [
        "scores['train_accuracy']"
      ],
      "execution_count": 49,
      "outputs": [
        {
          "output_type": "execute_result",
          "data": {
            "text/plain": [
              "array([0.80866667, 0.80177778, 0.80622222, 0.80777778, 0.80244444])"
            ]
          },
          "metadata": {},
          "execution_count": 49
        }
      ]
    },
    {
      "cell_type": "code",
      "metadata": {
        "colab": {
          "base_uri": "https://localhost:8080/"
        },
        "id": "BXHA9l1yFw7r",
        "outputId": "77adeae8-9064-48a9-e09a-34f32a1f5748"
      },
      "source": [
        "scores['test_accuracy']"
      ],
      "execution_count": 50,
      "outputs": [
        {
          "output_type": "execute_result",
          "data": {
            "text/plain": [
              "array([0.78488889, 0.82044444, 0.8       , 0.78844444, 0.808     ])"
            ]
          },
          "metadata": {},
          "execution_count": 50
        }
      ]
    },
    {
      "cell_type": "code",
      "metadata": {
        "colab": {
          "base_uri": "https://localhost:8080/"
        },
        "id": "3DEJJcBkF6fg",
        "outputId": "0ea53b3e-f370-4281-f4aa-f84844eca523"
      },
      "source": [
        "scores['estimator']"
      ],
      "execution_count": 51,
      "outputs": [
        {
          "output_type": "execute_result",
          "data": {
            "text/plain": [
              "[LogisticRegressionCV(),\n",
              " LogisticRegressionCV(),\n",
              " LogisticRegressionCV(),\n",
              " LogisticRegressionCV(),\n",
              " LogisticRegressionCV()]"
            ]
          },
          "metadata": {},
          "execution_count": 51
        }
      ]
    },
    {
      "cell_type": "code",
      "metadata": {
        "colab": {
          "base_uri": "https://localhost:8080/"
        },
        "id": "9MMNQNSlGQ6h",
        "outputId": "fccff874-ce47-471b-9ff7-79b6e3760afb"
      },
      "source": [
        "for model in scores['estimator']:\n",
        "    print(model.coef_)"
      ],
      "execution_count": 52,
      "outputs": [
        {
          "output_type": "stream",
          "name": "stdout",
          "text": [
            "[[ 0.16715593 -2.42812819 -7.1425469   0.20404286  0.14883557  0.18228172\n",
            "   0.17059672  0.27160719  0.08127125 -0.19149766  0.5443761  -0.06535609\n",
            "  -0.19149766  0.60973219 -1.01921153  1.74921659 -0.37712662  0.38274588\n",
            "  -0.37712662  0.34725917  0.23842165 -0.37712662  0.49158341  0.17683712\n",
            "  -0.37712662  0.55316793  0.37845211 -0.37712662  0.35155294 -0.15273185\n",
            "  -0.37712662  0.8827369  -0.16888353 -0.37712662  0.89888859  0.89864729\n",
            "   0.06386934 -0.6096382   0.06033713  0.29254131 -0.07321045  0.04481137\n",
            "   0.29640359  0.08487393]]\n",
            "[[ 0.18724733 -2.29741414 -1.89223518  0.06261865  0.03783714  0.06688993\n",
            "   0.03356585  0.19283583 -0.09238005  0.03384436  0.06661143 -0.1567188\n",
            "   0.03384436  0.22333023 -0.53957212  0.82787563 -0.18784772  0.25090233\n",
            "  -0.18784772  0.03740118  0.17328844 -0.18784772  0.11501507  0.07277008\n",
            "  -0.18784772  0.21553343  0.24286387 -0.18784772  0.04543964 -0.14639964\n",
            "  -0.18784772  0.43470315 -0.07696238 -0.18784772  0.36526588  0.70551176\n",
            "   0.0295878  -0.63464378 -0.09267211  0.19312789 -0.06107747 -0.13970243\n",
            "   0.24940501  0.05183068]]\n",
            "[[ 0.16773993 -2.24286004 -8.66719135  0.22518128  0.18749446  0.20326876\n",
            "   0.20940698  0.3513434   0.06133233 -0.28470247  0.6973782  -0.05489371\n",
            "  -0.28470247  0.75227191 -1.02518832  1.8697177  -0.43185365  0.45952079\n",
            "  -0.43185365  0.38500859  0.29466684 -0.43185365  0.54986254  0.14583307\n",
            "  -0.43185365  0.69869631  0.42158703 -0.43185365  0.42294235 -0.12662214\n",
            "  -0.43185365  0.97115152 -0.13226444 -0.43185365  0.97679383  0.87192889\n",
            "   0.04539738 -0.50465053  0.01654219  0.39613354 -0.04146425  0.01721689\n",
            "   0.4087125   0.0282106 ]]\n",
            "[[ 0.28638935 -2.27656128 -7.41888391  0.18253774  0.18391124  0.22631747\n",
            "   0.14013151  0.30428306  0.06216592 -0.22669726  0.59314624 -0.07402694\n",
            "  -0.22669726  0.66717319 -1.04451487  1.79762028 -0.38665643  0.43234033\n",
            "  -0.38665643  0.32076508  0.26679958 -0.38665643  0.48630583  0.18478945\n",
            "  -0.38665643  0.56831596  0.35492034 -0.38665643  0.39818507 -0.16276323\n",
            "  -0.38665643  0.91586864 -0.13323897 -0.38665643  0.88634438  0.85344354\n",
            "   0.03829402 -0.52528859  0.0388637   0.32758528 -0.10888431 -0.0337614\n",
            "   0.38479318  0.12430151]]\n",
            "[[ 0.1328823  -1.38754988  0.09829165 -0.0058562   0.00595319  0.05927788\n",
            "  -0.05918088  0.09626783 -0.09617083  0.0707639  -0.0706669  -0.13738529\n",
            "   0.0707639   0.06671839 -0.32471971  0.41747049 -0.09265379  0.25344082\n",
            "  -0.09265379 -0.16069004  0.1860696  -0.09265379 -0.09331882  0.07858901\n",
            "  -0.09265379  0.01416178  0.24963115 -0.09265379 -0.15688036 -0.0197537\n",
            "  -0.09265379  0.11250448 -0.03757973 -0.09265379  0.13033052  0.69737288\n",
            "  -0.11033498 -0.5869409  -0.12346842  0.12356542 -0.15422439 -0.09318375\n",
            "   0.2558186  -0.00831347]]\n"
          ]
        }
      ]
    },
    {
      "cell_type": "code",
      "source": [],
      "metadata": {
        "id": "U6M2foTW6ZqW"
      },
      "execution_count": null,
      "outputs": []
    }
  ]
}